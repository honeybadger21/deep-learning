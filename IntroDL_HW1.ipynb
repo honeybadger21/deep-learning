{
 "cells": [
  {
   "cell_type": "markdown",
   "metadata": {},
   "source": [
    "### Deep Learning Homework 01 \n",
    "<i>Name: Ruchi Sharma, EID: rs58898</i>"
   ]
  },
  {
   "cell_type": "code",
   "execution_count": 1,
   "metadata": {},
   "outputs": [],
   "source": [
    "import warnings\n",
    "warnings.filterwarnings(\"ignore\")"
   ]
  },
  {
   "cell_type": "code",
   "execution_count": 2,
   "metadata": {},
   "outputs": [],
   "source": [
    "import torch"
   ]
  },
  {
   "cell_type": "markdown",
   "metadata": {},
   "source": [
    "### Question 01:"
   ]
  },
  {
   "cell_type": "code",
   "execution_count": 3,
   "metadata": {},
   "outputs": [
    {
     "data": {
      "text/plain": [
       "tensor([2., 1.])"
      ]
     },
     "execution_count": 3,
     "metadata": {},
     "output_type": "execute_result"
    }
   ],
   "source": [
    "#1.1\n",
    "\n",
    "import torch\n",
    "\n",
    "x=torch.tensor([4,2], dtype=torch.float, requires_grad=True)\n",
    "w=torch.tensor([2,1],dtype=torch.float)\n",
    "b=torch.tensor(3,dtype=torch.float)\n",
    "\n",
    "y=torch.matmul(w.T,x) + b\n",
    "y.backward()\n",
    "\n",
    "x.grad"
   ]
  },
  {
   "cell_type": "code",
   "execution_count": 4,
   "metadata": {},
   "outputs": [
    {
     "data": {
      "text/plain": [
       "(tensor(0.0156), 0.01562500186264533)"
      ]
     },
     "execution_count": 4,
     "metadata": {},
     "output_type": "execute_result"
    }
   ],
   "source": [
    "#1.2\n",
    "\n",
    "y_true=torch.tensor([0,1,1,0], dtype=torch.float)\n",
    "y_pred=torch.tensor([0.1,0.95,1.10,0.2], dtype=torch.float)\n",
    "\n",
    "def SqEr(y1, y2):\n",
    "    ans,n=0.0,len(y1)\n",
    "    for i in range(n):\n",
    "        ans+=(y1[i].item()-y2[i].item())**2\n",
    "    return ans/n\n",
    "\n",
    "loss=torch.nn.MSELoss()\n",
    "loss(y_true,y_pred), SqEr(y_true,y_pred)"
   ]
  },
  {
   "cell_type": "code",
   "execution_count": 5,
   "metadata": {},
   "outputs": [
    {
     "data": {
      "text/plain": [
       "tensor(17.5000, grad_fn=<MeanBackward0>)"
      ]
     },
     "execution_count": 5,
     "metadata": {},
     "output_type": "execute_result"
    }
   ],
   "source": [
    "#1.3\n",
    "\n",
    "x=torch.tensor([[0,0],[0,1],[1,0],[1,1]],dtype=torch.float)\n",
    "w=torch.tensor([2,1],dtype=torch.float,requires_grad=True)\n",
    "b=torch.tensor(3.0,requires_grad=True)\n",
    "\n",
    "y_true=torch.tensor([0,1,1,0],dtype=torch.float)\n",
    "y_pred=torch.sum(w*x,1)+b\n",
    "\n",
    "def mseLoss(y_true,y_pred):\n",
    "    loss=torch.mean((y_true-y_pred)**2)\n",
    "    return loss\n",
    "loss2=mseLoss(y_true,y_pred)\n",
    "loss2"
   ]
  },
  {
   "cell_type": "code",
   "execution_count": 6,
   "metadata": {
    "scrolled": true
   },
   "outputs": [
    {
     "data": {
      "text/plain": [
       "(tensor([5.0000, 4.5000]), tensor(8.))"
      ]
     },
     "execution_count": 6,
     "metadata": {},
     "output_type": "execute_result"
    }
   ],
   "source": [
    "loss2.backward() \n",
    "w.grad, b.grad"
   ]
  },
  {
   "cell_type": "code",
   "execution_count": 47,
   "metadata": {},
   "outputs": [
    {
     "data": {
      "text/plain": [
       "(tensor([1.2884e-07, 1.2975e-07], requires_grad=True),\n",
       " tensor(0.5000, requires_grad=True))"
      ]
     },
     "execution_count": 47,
     "metadata": {},
     "output_type": "execute_result"
    }
   ],
   "source": [
    "#extra credit\n",
    "\n",
    "epochs, eta = 500, 0.1\n",
    "x=torch.tensor([[0,0],[0,1],[1,0],[1,1]],dtype=torch.float)\n",
    "w=torch.tensor([2,1],dtype=torch.float,requires_grad=True)\n",
    "b=torch.tensor(3.0,requires_grad=True)\n",
    "\n",
    "y_true=torch.tensor([0,1,1,0],dtype=torch.float)\n",
    "lossn=[]\n",
    "\n",
    "for i in range(epochs):\n",
    "\n",
    "    y_pred=torch.sum(w*x,1)+b\n",
    "    \n",
    "    mseloss = torch.nn.MSELoss() \n",
    "    loss3=mseloss(y_true,y_pred)\n",
    "    loss3.backward()\n",
    "    \n",
    "    with torch.no_grad():\n",
    "        w-=w.grad*eta\n",
    "        b-=b.grad*eta\n",
    "        w.grad.zero_()\n",
    "        b.grad.zero_()\n",
    "    \n",
    "    lossn.append(loss3.item())\n",
    "    # print(f\"Epoch {i}/{epochs}: Loss: {loss3}\")\n",
    "\n",
    "w, b"
   ]
  },
  {
   "cell_type": "code",
   "execution_count": 48,
   "metadata": {},
   "outputs": [
    {
     "data": {
      "text/plain": [
       "tensor(0.2500, grad_fn=<MseLossBackward0>)"
      ]
     },
     "execution_count": 48,
     "metadata": {},
     "output_type": "execute_result"
    }
   ],
   "source": [
    "loss3"
   ]
  },
  {
   "cell_type": "code",
   "execution_count": 22,
   "metadata": {},
   "outputs": [
    {
     "data": {
      "text/plain": [
       "[<matplotlib.lines.Line2D at 0x7fa653d07e20>]"
      ]
     },
     "execution_count": 22,
     "metadata": {},
     "output_type": "execute_result"
    },
    {
     "data": {
      "image/png": "[encoded data removed]",
      "text/plain": [
       "<Figure size 640x480 with 1 Axes>"
      ]
     },
     "metadata": {},
     "output_type": "display_data"
    }
   ],
   "source": [
    "import matplotlib.pyplot as plt\n",
    "plt.plot(lossn)"
   ]
  },
  {
   "cell_type": "markdown",
   "metadata": {},
   "source": [
    "### Question 02:"
   ]
  },
  {
   "cell_type": "code",
   "execution_count": 3,
   "metadata": {},
   "outputs": [
    {
     "name": "stdout",
     "output_type": "stream",
     "text": [
      "[-0.46470892429351807, 1.9181803464889526, 0.226027250289917, -0.28238964080810547]\n",
      "[0.09991604089736938, 0.7974510192871094]\n"
     ]
    }
   ],
   "source": [
    "#2.1\n",
    "\n",
    "# Convert input and kernel to tensors\n",
    "x = torch.tensor([1, -1, 3, 4, 4], dtype=torch.float)\n",
    "kernel = torch.tensor([1, 1], dtype=torch.float)\n",
    "\n",
    "# Reshape the input and kernel to add a batch dimension\n",
    "x = x.unsqueeze(0)\n",
    "kernel = kernel.unsqueeze(0).unsqueeze(0)\n",
    "\n",
    "# Convolution with stride=1\n",
    "conv = torch.nn.Conv1d(in_channels=1, out_channels=1, kernel_size=2, stride=1)\n",
    "output = conv(x)\n",
    "print(output.squeeze().tolist()) # [2, 2, 8, 8]\n",
    "\n",
    "# Convolution with stride=2\n",
    "conv = torch.nn.Conv1d(in_channels=1, out_channels=1, kernel_size=2, stride=2)\n",
    "output = conv(x)\n",
    "print(output.squeeze().tolist()) # [2, 8]"
   ]
  },
  {
   "cell_type": "code",
   "execution_count": 11,
   "metadata": {},
   "outputs": [
    {
     "data": {
      "text/plain": [
       "tensor([[0., 2., 7., 8.]], grad_fn=<SqueezeBackward1>)"
      ]
     },
     "execution_count": 11,
     "metadata": {},
     "output_type": "execute_result"
    }
   ],
   "source": [
    "# 2.1\n",
    "\n",
    "x1=torch.tensor([1, -1, 3, 4, 4],dtype=torch.float)\n",
    "x1=x1.unsqueeze(0)\n",
    "cnn1d1=torch.nn.Conv1d(in_channels=1,out_channels=1,kernel_size=2,bias=False)\n",
    "cnn1d1.weight.data=torch.tensor([1,1],dtype=torch.float,requires_grad=True)\n",
    "cnn1d1.weight.data=cnn1d1.weight.data.unsqueeze(0).unsqueeze(0)\n",
    "out1=cnn1d1(x1)\n",
    "\n",
    "out1"
   ]
  },
  {
   "cell_type": "code",
   "execution_count": 12,
   "metadata": {},
   "outputs": [
    {
     "data": {
      "text/plain": [
       "tensor([[0., 7.]], grad_fn=<SqueezeBackward1>)"
      ]
     },
     "execution_count": 12,
     "metadata": {},
     "output_type": "execute_result"
    }
   ],
   "source": [
    "x1=torch.tensor([1, -1, 3, 4, 4],dtype=torch.float)\n",
    "x1=x1.unsqueeze(0)\n",
    "cnn1d1=torch.nn.Conv1d(in_channels=1,out_channels=1,kernel_size=2,bias=False,stride=2)\n",
    "cnn1d1.weight.data=torch.tensor([1,1],dtype=torch.float,requires_grad=True)\n",
    "cnn1d1.weight.data=cnn1d1.weight.data.unsqueeze(0).unsqueeze(0)\n",
    "out2=cnn1d1(x1)\n",
    "\n",
    "out2"
   ]
  },
  {
   "cell_type": "code",
   "execution_count": 40,
   "metadata": {},
   "outputs": [
    {
     "name": "stdout",
     "output_type": "stream",
     "text": [
      "torch.Size([3, 3])\n",
      "torch.Size([3, 3])\n"
     ]
    }
   ],
   "source": [
    "#2.2 Part (i) & (ii)\n",
    "\n",
    "# given grayscale image\n",
    "image = torch.tensor([[0.1, -0.6, 0.4, 0.8],\n",
    "                      [-0.4, 0.3, 0.9, 0.2],\n",
    "                      [0.5, 0.2, 0.8, -0.7],\n",
    "                      [0.3, 0.7, -0.4, 0.1]], dtype=torch.float)\n",
    "\n",
    "# filters\n",
    "filter1 = torch.tensor([[1, 0], [0, 1]], dtype=torch.float)\n",
    "filter2 = torch.tensor([[0, 1], [1, 0]], dtype=torch.float)\n",
    "\n",
    "# perform 2-d convolution with stride=1\n",
    "output1 = torch.nn.functional.conv2d(image.unsqueeze(0).unsqueeze(0), filter1.unsqueeze(0).unsqueeze(0), stride=1)\n",
    "output2 = torch.nn.functional.conv2d(image.unsqueeze(0).unsqueeze(0), filter2.unsqueeze(0).unsqueeze(0), stride=1)\n",
    "\n",
    "print(output1.squeeze().size())\n",
    "print(output2.squeeze().size())\n",
    "print(\"The output is 2 channels when stride = 1 is of size 3x3.\")"
   ]
  },
  {
   "cell_type": "code",
   "execution_count": 41,
   "metadata": {},
   "outputs": [
    {
     "name": "stdout",
     "output_type": "stream",
     "text": [
      "torch.Size([2, 2])\n",
      "torch.Size([2, 2])\n",
      "The output is 2 channels of size 2x2.\n"
     ]
    }
   ],
   "source": [
    "# perform 2-d convolution with stride=2\n",
    "output1 = torch.nn.functional.conv2d(image.unsqueeze(0).unsqueeze(0), filter1.unsqueeze(0).unsqueeze(0), stride=2)\n",
    "output2 = torch.nn.functional.conv2d(image.unsqueeze(0).unsqueeze(0), filter2.unsqueeze(0).unsqueeze(0), stride=2)\n",
    "\n",
    "print(output1.squeeze().size())\n",
    "print(output2.squeeze().size())\n",
    "print(\"The output is 2 channels when stride = 1 is of size 2x2.\")    "
   ]
  },
  {
   "cell_type": "code",
   "execution_count": 43,
   "metadata": {},
   "outputs": [
    {
     "name": "stdout",
     "output_type": "stream",
     "text": [
      "torch.Size([4])\n",
      "torch.Size([4])\n"
     ]
    }
   ],
   "source": [
    "output1 = output1.reshape(-1)\n",
    "output2 = output2.reshape(-1)\n",
    "print(output1.squeeze().size())\n",
    "print(output2.squeeze().size())"
   ]
  },
  {
   "cell_type": "code",
   "execution_count": 44,
   "metadata": {},
   "outputs": [
    {
     "name": "stdout",
     "output_type": "stream",
     "text": [
      "Output after Max-pooling:\n",
      "[[0.30000001192092896, 0.8999999761581421, 0.8999999761581421], [0.5, 0.8999999761581421, 0.8999999761581421], [0.699999988079071, 0.800000011920929, 0.800000011920929]]\n"
     ]
    }
   ],
   "source": [
    "#2.2 Part (iv)\n",
    "\n",
    "# Reshape the image to add a batch dimension\n",
    "image = image.unsqueeze(0).unsqueeze(0)\n",
    "\n",
    "# Max-pooling\n",
    "pool = torch.nn.MaxPool2d(kernel_size=(2, 2), stride=1)\n",
    "output = pool(image)\n",
    "\n",
    "print(\"Output after Max-pooling:\")\n",
    "print(output.squeeze().tolist())"
   ]
  },
  {
   "cell_type": "markdown",
   "metadata": {},
   "source": [
    "The main advantage of max-pooling over convolution is that it reduces the computational complexity of the network. Max-pooling also helps to reduce overfitting by reducing the size of the feature maps. However, a max-pooling operation may not be advantageous if the input features are small in size or if we need to preserve fine details in the features. In such cases, max-pooling can hurt the network by losing important information."
   ]
  },
  {
   "cell_type": "code",
   "execution_count": null,
   "metadata": {},
   "outputs": [],
   "source": []
  }
 ],
 "metadata": {
  "kernelspec": {
   "display_name": "Python 3 (ipykernel)",
   "language": "python",
   "name": "python3"
  },
  "language_info": {
   "codemirror_mode": {
    "name": "ipython",
    "version": 3
   },
   "file_extension": ".py",
   "mimetype": "text/x-python",
   "name": "python",
   "nbconvert_exporter": "python",
   "pygments_lexer": "ipython3",
   "version": "3.8.2"
  }
 },
 "nbformat": 4,
 "nbformat_minor": 4
}
